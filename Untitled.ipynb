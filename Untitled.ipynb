{
 "cells": [
  {
   "cell_type": "code",
   "execution_count": null,
   "metadata": {},
   "outputs": [
    {
     "ename": "ImportError",
     "evalue": "No module named 'numba'",
     "traceback": [
      "\u001b[1;31m---------------------------------------------------------------------------\u001b[0m",
      "\u001b[1;31mImportError\u001b[0m                               Traceback (most recent call last)",
      "\u001b[1;32m<ipython-input-1-ba2e9a07edfa>\u001b[0m in \u001b[0;36m<module>\u001b[1;34m()\u001b[0m\n\u001b[1;32m----> 1\u001b[1;33m \u001b[1;32mimport\u001b[0m \u001b[0mmlfinlab\u001b[0m\u001b[1;33m.\u001b[0m\u001b[0mdata_structures\u001b[0m \u001b[1;32mas\u001b[0m \u001b[0mds\u001b[0m\u001b[1;33m\u001b[0m\u001b[0m\n\u001b[0m",
      "\u001b[1;32m~\\source\\repos\\mlfinlab\\mlfinlab\\__init__.py\u001b[0m in \u001b[0;36m<module>\u001b[1;34m()\u001b[0m\n\u001b[0;32m      3\u001b[0m \"\"\"\n\u001b[0;32m      4\u001b[0m \u001b[1;33m\u001b[0m\u001b[0m\n\u001b[1;32m----> 5\u001b[1;33m \u001b[1;32mimport\u001b[0m \u001b[0mmlfinlab\u001b[0m\u001b[1;33m.\u001b[0m\u001b[0mdata_structures\u001b[0m \u001b[1;32mas\u001b[0m \u001b[0mdata_structures\u001b[0m\u001b[1;33m\u001b[0m\u001b[0m\n\u001b[0m\u001b[0;32m      6\u001b[0m \u001b[1;32mimport\u001b[0m \u001b[0mmlfinlab\u001b[0m\u001b[1;33m.\u001b[0m\u001b[0mfilters\u001b[0m\u001b[1;33m.\u001b[0m\u001b[0mfilters\u001b[0m \u001b[1;32mas\u001b[0m \u001b[0mfilters\u001b[0m\u001b[1;33m\u001b[0m\u001b[0m\n\u001b[0;32m      7\u001b[0m \u001b[1;32mimport\u001b[0m \u001b[0mmlfinlab\u001b[0m\u001b[1;33m.\u001b[0m\u001b[0mlabeling\u001b[0m\u001b[1;33m.\u001b[0m\u001b[0mlabeling\u001b[0m \u001b[1;32mas\u001b[0m \u001b[0mlabeling\u001b[0m\u001b[1;33m\u001b[0m\u001b[0m\n",
      "\u001b[1;32m~\\source\\repos\\mlfinlab\\mlfinlab\\data_structures\\__init__.py\u001b[0m in \u001b[0;36m<module>\u001b[1;34m()\u001b[0m\n\u001b[0;32m     14\u001b[0m \u001b[1;33m\u001b[0m\u001b[0m\n\u001b[0;32m     15\u001b[0m \u001b[1;32mfrom\u001b[0m \u001b[0mmlfinlab\u001b[0m\u001b[1;33m.\u001b[0m\u001b[0mdata_structures\u001b[0m\u001b[1;33m.\u001b[0m\u001b[0mstandard_data_structures\u001b[0m \u001b[1;32mimport\u001b[0m \u001b[0mget_tick_bars\u001b[0m\u001b[1;33m,\u001b[0m \u001b[0mget_dollar_bars\u001b[0m\u001b[1;33m,\u001b[0m \u001b[0mget_volume_bars\u001b[0m\u001b[1;33m\u001b[0m\u001b[0m\n\u001b[1;32m---> 16\u001b[1;33m \u001b[1;32mfrom\u001b[0m \u001b[0mmlfinlab\u001b[0m\u001b[1;33m.\u001b[0m\u001b[0mdata_structures\u001b[0m\u001b[1;33m.\u001b[0m\u001b[0mimbalance_data_structures\u001b[0m \u001b[1;32mimport\u001b[0m \u001b[0mget_dollar_imbalance_bars\u001b[0m\u001b[1;33m,\u001b[0m \u001b[0mget_volume_imbalance_bars\u001b[0m\u001b[1;33m,\u001b[0m\u001b[0;31m \u001b[0m\u001b[0;31m\\\u001b[0m\u001b[1;33m\u001b[0m\u001b[0m\n\u001b[0m\u001b[0;32m     17\u001b[0m     \u001b[0mget_tick_imbalance_bars\u001b[0m\u001b[1;33m\u001b[0m\u001b[0m\n\u001b[0;32m     18\u001b[0m \u001b[1;32mfrom\u001b[0m \u001b[0mmlfinlab\u001b[0m\u001b[1;33m.\u001b[0m\u001b[0mdata_structures\u001b[0m\u001b[1;33m.\u001b[0m\u001b[0mrun_data_structures\u001b[0m \u001b[1;32mimport\u001b[0m \u001b[0mget_dollar_run_bars\u001b[0m\u001b[1;33m,\u001b[0m \u001b[0mget_volume_run_bars\u001b[0m\u001b[1;33m,\u001b[0m \u001b[0mget_tick_run_bars\u001b[0m\u001b[1;33m\u001b[0m\u001b[0m\n",
      "\u001b[1;32m~\\source\\repos\\mlfinlab\\mlfinlab\\data_structures\\imbalance_data_structures.py\u001b[0m in \u001b[0;36m<module>\u001b[1;34m()\u001b[0m\n\u001b[0;32m     22\u001b[0m \u001b[1;32mimport\u001b[0m \u001b[0mnumpy\u001b[0m \u001b[1;32mas\u001b[0m \u001b[0mnp\u001b[0m\u001b[1;33m\u001b[0m\u001b[0m\n\u001b[0;32m     23\u001b[0m \u001b[1;33m\u001b[0m\u001b[0m\n\u001b[1;32m---> 24\u001b[1;33m \u001b[1;32mfrom\u001b[0m \u001b[0mmlfinlab\u001b[0m\u001b[1;33m.\u001b[0m\u001b[0mutil\u001b[0m\u001b[1;33m.\u001b[0m\u001b[0mfast_ewma\u001b[0m \u001b[1;32mimport\u001b[0m \u001b[0mewma\u001b[0m\u001b[1;33m\u001b[0m\u001b[0m\n\u001b[0m\u001b[0;32m     25\u001b[0m \u001b[1;32mfrom\u001b[0m \u001b[0mmlfinlab\u001b[0m\u001b[1;33m.\u001b[0m\u001b[0mdata_structures\u001b[0m\u001b[1;33m.\u001b[0m\u001b[0mbase_bars\u001b[0m \u001b[1;32mimport\u001b[0m \u001b[0mBaseBars\u001b[0m\u001b[1;33m\u001b[0m\u001b[0m\n\u001b[0;32m     26\u001b[0m \u001b[1;33m\u001b[0m\u001b[0m\n",
      "\u001b[1;32m~\\source\\repos\\mlfinlab\\mlfinlab\\util\\__init__.py\u001b[0m in \u001b[0;36m<module>\u001b[1;34m()\u001b[0m\n\u001b[0;32m      3\u001b[0m \"\"\"\n\u001b[0;32m      4\u001b[0m \u001b[1;33m\u001b[0m\u001b[0m\n\u001b[1;32m----> 5\u001b[1;33m \u001b[1;32mfrom\u001b[0m \u001b[0mmlfinlab\u001b[0m\u001b[1;33m.\u001b[0m\u001b[0mutil\u001b[0m\u001b[1;33m.\u001b[0m\u001b[0mfast_ewma\u001b[0m \u001b[1;32mimport\u001b[0m \u001b[0mewma\u001b[0m\u001b[1;33m\u001b[0m\u001b[0m\n\u001b[0m\u001b[0;32m      6\u001b[0m \u001b[1;32mfrom\u001b[0m \u001b[0mmlfinlab\u001b[0m\u001b[1;33m.\u001b[0m\u001b[0mutil\u001b[0m\u001b[1;33m.\u001b[0m\u001b[0mmultiprocess\u001b[0m \u001b[1;32mimport\u001b[0m \u001b[0mexpand_call\u001b[0m\u001b[1;33m,\u001b[0m \u001b[0mlin_parts\u001b[0m\u001b[1;33m,\u001b[0m \u001b[0mmp_pandas_obj\u001b[0m\u001b[1;33m,\u001b[0m \u001b[0mnested_parts\u001b[0m\u001b[1;33m,\u001b[0m \u001b[0mprocess_jobs\u001b[0m\u001b[1;33m,\u001b[0m \u001b[0mprocess_jobs_\u001b[0m\u001b[1;33m,\u001b[0m\u001b[0;31m \u001b[0m\u001b[0;31m\\\u001b[0m\u001b[1;33m\u001b[0m\u001b[0m\n\u001b[0;32m      7\u001b[0m     \u001b[0mreport_progress\u001b[0m\u001b[1;33m\u001b[0m\u001b[0m\n",
      "\u001b[1;32m~\\source\\repos\\mlfinlab\\mlfinlab\\util\\fast_ewma.py\u001b[0m in \u001b[0;36m<module>\u001b[1;34m()\u001b[0m\n\u001b[0;32m      7\u001b[0m \u001b[1;31m# Imports\u001b[0m\u001b[1;33m\u001b[0m\u001b[1;33m\u001b[0m\u001b[0m\n\u001b[0;32m      8\u001b[0m \u001b[1;32mimport\u001b[0m \u001b[0mnumpy\u001b[0m \u001b[1;32mas\u001b[0m \u001b[0mnp\u001b[0m\u001b[1;33m\u001b[0m\u001b[0m\n\u001b[1;32m----> 9\u001b[1;33m \u001b[1;32mfrom\u001b[0m \u001b[0mnumba\u001b[0m \u001b[1;32mimport\u001b[0m \u001b[0mjit\u001b[0m\u001b[1;33m\u001b[0m\u001b[0m\n\u001b[0m\u001b[0;32m     10\u001b[0m \u001b[1;32mfrom\u001b[0m \u001b[0mnumba\u001b[0m \u001b[1;32mimport\u001b[0m \u001b[0mfloat64\u001b[0m\u001b[1;33m\u001b[0m\u001b[0m\n\u001b[0;32m     11\u001b[0m \u001b[1;32mfrom\u001b[0m \u001b[0mnumba\u001b[0m \u001b[1;32mimport\u001b[0m \u001b[0mint64\u001b[0m\u001b[1;33m\u001b[0m\u001b[0m\n",
      "\u001b[1;31mImportError\u001b[0m: No module named 'numba'"
     ],
     "output_type": "error"
    }
   ],
   "source": [
    "import mlfinlab.data_structures as ds"
   ]
  },
  {
   "cell_type": "markdown",
   "metadata": {},
   "source": []
  }
 ],
 "metadata": {
  "kernelspec": {
   "display_name": "Python 3",
   "language": "python",
   "name": "python3"
  },
  "language_info": {
   "codemirror_mode": {
    "name": "ipython",
    "version": 3
   },
   "file_extension": ".py",
   "mimetype": "text/x-python",
   "name": "python",
   "nbconvert_exporter": "python",
   "pygments_lexer": "ipython3",
   "version": "3.5.5"
  }
 },
 "nbformat": 4,
 "nbformat_minor": 2
}
